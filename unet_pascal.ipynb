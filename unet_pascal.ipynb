{
  "nbformat": 4,
  "nbformat_minor": 0,
  "metadata": {
    "colab": {
      "name": "unet_pascal.ipynb",
      "provenance": [],
      "collapsed_sections": [],
      "toc_visible": true
    },
    "kernelspec": {
      "name": "python3",
      "display_name": "Python 3"
    },
    "accelerator": "GPU"
  },
  "cells": [
    {
      "cell_type": "markdown",
      "metadata": {
        "id": "J_qkkB_TmXyo",
        "colab_type": "text"
      },
      "source": [
        "## Dependencies ##"
      ]
    },
    {
      "cell_type": "code",
      "metadata": {
        "id": "lE_SSi5nXOAR",
        "colab_type": "code",
        "colab": {}
      },
      "source": [
        ""
      ],
      "execution_count": 0,
      "outputs": []
    },
    {
      "cell_type": "code",
      "metadata": {
        "id": "KzcIuT1iSYIg",
        "colab_type": "code",
        "outputId": "368beeb4-48a7-45fc-f043-c6e1ec05ac69",
        "colab": {
          "base_uri": "https://localhost:8080/",
          "height": 428
        }
      },
      "source": [
        "!pip install -U tensorboard\n",
        "%load_ext tensorboard"
      ],
      "execution_count": 0,
      "outputs": [
        {
          "output_type": "stream",
          "text": [
            "Requirement already up-to-date: tensorboard in /usr/local/lib/python3.6/dist-packages (2.1.0)\n",
            "Requirement already satisfied, skipping upgrade: setuptools>=41.0.0 in /usr/local/lib/python3.6/dist-packages (from tensorboard) (42.0.2)\n",
            "Requirement already satisfied, skipping upgrade: google-auth<2,>=1.6.3 in /usr/local/lib/python3.6/dist-packages (from tensorboard) (1.10.0)\n",
            "Requirement already satisfied, skipping upgrade: absl-py>=0.4 in /usr/local/lib/python3.6/dist-packages (from tensorboard) (0.9.0)\n",
            "Requirement already satisfied, skipping upgrade: google-auth-oauthlib<0.5,>=0.4.1 in /usr/local/lib/python3.6/dist-packages (from tensorboard) (0.4.1)\n",
            "Requirement already satisfied, skipping upgrade: numpy>=1.12.0 in /usr/local/lib/python3.6/dist-packages (from tensorboard) (1.17.5)\n",
            "Requirement already satisfied, skipping upgrade: wheel>=0.26; python_version >= \"3\" in /usr/local/lib/python3.6/dist-packages (from tensorboard) (0.33.6)\n",
            "Requirement already satisfied, skipping upgrade: requests<3,>=2.21.0 in /usr/local/lib/python3.6/dist-packages (from tensorboard) (2.21.0)\n",
            "Requirement already satisfied, skipping upgrade: werkzeug>=0.11.15 in /usr/local/lib/python3.6/dist-packages (from tensorboard) (0.16.0)\n",
            "Requirement already satisfied, skipping upgrade: grpcio>=1.24.3 in /usr/local/lib/python3.6/dist-packages (from tensorboard) (1.26.0)\n",
            "Requirement already satisfied, skipping upgrade: protobuf>=3.6.0 in /usr/local/lib/python3.6/dist-packages (from tensorboard) (3.10.0)\n",
            "Requirement already satisfied, skipping upgrade: six>=1.10.0 in /usr/local/lib/python3.6/dist-packages (from tensorboard) (1.12.0)\n",
            "Requirement already satisfied, skipping upgrade: markdown>=2.6.8 in /usr/local/lib/python3.6/dist-packages (from tensorboard) (3.1.1)\n",
            "Requirement already satisfied, skipping upgrade: pyasn1-modules>=0.2.1 in /usr/local/lib/python3.6/dist-packages (from google-auth<2,>=1.6.3->tensorboard) (0.2.7)\n",
            "Requirement already satisfied, skipping upgrade: cachetools<5.0,>=2.0.0 in /usr/local/lib/python3.6/dist-packages (from google-auth<2,>=1.6.3->tensorboard) (4.0.0)\n",
            "Requirement already satisfied, skipping upgrade: rsa<4.1,>=3.1.4 in /usr/local/lib/python3.6/dist-packages (from google-auth<2,>=1.6.3->tensorboard) (4.0)\n",
            "Requirement already satisfied, skipping upgrade: requests-oauthlib>=0.7.0 in /usr/local/lib/python3.6/dist-packages (from google-auth-oauthlib<0.5,>=0.4.1->tensorboard) (1.3.0)\n",
            "Requirement already satisfied, skipping upgrade: urllib3<1.25,>=1.21.1 in /usr/local/lib/python3.6/dist-packages (from requests<3,>=2.21.0->tensorboard) (1.24.3)\n",
            "Requirement already satisfied, skipping upgrade: certifi>=2017.4.17 in /usr/local/lib/python3.6/dist-packages (from requests<3,>=2.21.0->tensorboard) (2019.11.28)\n",
            "Requirement already satisfied, skipping upgrade: chardet<3.1.0,>=3.0.2 in /usr/local/lib/python3.6/dist-packages (from requests<3,>=2.21.0->tensorboard) (3.0.4)\n",
            "Requirement already satisfied, skipping upgrade: idna<2.9,>=2.5 in /usr/local/lib/python3.6/dist-packages (from requests<3,>=2.21.0->tensorboard) (2.8)\n",
            "Requirement already satisfied, skipping upgrade: pyasn1<0.5.0,>=0.4.6 in /usr/local/lib/python3.6/dist-packages (from pyasn1-modules>=0.2.1->google-auth<2,>=1.6.3->tensorboard) (0.4.8)\n",
            "Requirement already satisfied, skipping upgrade: oauthlib>=3.0.0 in /usr/local/lib/python3.6/dist-packages (from requests-oauthlib>=0.7.0->google-auth-oauthlib<0.5,>=0.4.1->tensorboard) (3.1.0)\n"
          ],
          "name": "stdout"
        }
      ]
    },
    {
      "cell_type": "code",
      "metadata": {
        "id": "ErckZajfQAlz",
        "colab_type": "code",
        "outputId": "caf24e76-cfd4-4329-9cc5-6f5bfd4cf230",
        "colab": {
          "base_uri": "https://localhost:8080/",
          "height": 63
        }
      },
      "source": [
        "from torch.utils.tensorboard import SummaryWriter\n",
        "import numpy as np\n",
        "\n",
        "writer = SummaryWriter()\n",
        "\n",
        "# for n_iter in range(1000):\n",
        "#     writer.add_scalar('Loss/train', np.random.random(), n_iter)\n",
        "#     writer.add_scalar('Loss/test', np.random.random(), n_iter)\n",
        "#     writer.add_scalar('Accuracy/train', np.random.random(), n_iter)\n",
        "#     writer.add_scalar('Accuracy/test', np.random.random(), n_iter)"
      ],
      "execution_count": 0,
      "outputs": [
        {
          "output_type": "display_data",
          "data": {
            "text/html": [
              "<p style=\"color: red;\">\n",
              "The default version of TensorFlow in Colab will soon switch to TensorFlow 2.x.<br>\n",
              "We recommend you <a href=\"https://www.tensorflow.org/guide/migrate\" target=\"_blank\">upgrade</a> now \n",
              "or ensure your notebook will continue to use TensorFlow 1.x via the <code>%tensorflow_version 1.x</code> magic:\n",
              "<a href=\"https://colab.research.google.com/notebooks/tensorflow_version.ipynb\" target=\"_blank\">more info</a>.</p>\n"
            ],
            "text/plain": [
              "<IPython.core.display.HTML object>"
            ]
          },
          "metadata": {
            "tags": []
          }
        }
      ]
    },
    {
      "cell_type": "code",
      "metadata": {
        "id": "zGsQF3ohYDPV",
        "colab_type": "code",
        "colab": {}
      },
      "source": [
        "# %tensorboard --logdir=runs"
      ],
      "execution_count": 0,
      "outputs": []
    },
    {
      "cell_type": "code",
      "metadata": {
        "id": "qkALFCGWmXyx",
        "colab_type": "code",
        "outputId": "90941612-a7e2-4517-eb30-2dee9aa38155",
        "colab": {
          "base_uri": "https://localhost:8080/",
          "height": 34
        }
      },
      "source": [
        "# imports \n",
        "import sys\n",
        "import torch\n",
        "import torchvision\n",
        "from torch import nn\n",
        "from datetime import datetime\n",
        "from datetime import date\n",
        "from torch.autograd import Variable\n",
        "import torch.nn.functional as F \n",
        "import torch.optim as optim\n",
        "from pathlib import Path\n",
        "from torchvision import transforms\n",
        "from torch.optim import lr_scheduler\n",
        "import numpy as np \n",
        "from skimage import measure \n",
        "# import tifffile \n",
        "import time\n",
        "from PIL import Image\n",
        "import matplotlib\n",
        "import matplotlib.pyplot as plt\n",
        "from IPython.display import display, clear_output\n",
        "matplotlib.rcParams['axes.grid'] = False\n",
        "torch.__version__"
      ],
      "execution_count": 0,
      "outputs": [
        {
          "output_type": "execute_result",
          "data": {
            "text/plain": [
              "'1.3.1'"
            ]
          },
          "metadata": {
            "tags": []
          },
          "execution_count": 3
        }
      ]
    },
    {
      "cell_type": "code",
      "metadata": {
        "id": "T0hNyb-QqPKY",
        "colab_type": "code",
        "colab": {}
      },
      "source": [
        "classes = [torch.tensor(i) for i in range(21)]\n",
        "classes.append(255)"
      ],
      "execution_count": 0,
      "outputs": []
    },
    {
      "cell_type": "code",
      "metadata": {
        "id": "6aUtVq15n7W4",
        "colab_type": "code",
        "colab": {}
      },
      "source": [
        "def is_catagorical(mask):\n",
        "  for x in torch.flatten(mask):\n",
        "    if x not in classes:\n",
        "      return False \n",
        "  return True "
      ],
      "execution_count": 0,
      "outputs": []
    },
    {
      "cell_type": "code",
      "metadata": {
        "id": "uYdiwjArOZCb",
        "colab_type": "code",
        "colab": {}
      },
      "source": [
        "# assert(torch.cuda.is_available())\n",
        "device = torch.device('cuda') if torch.cuda.is_available() else torch.device('cpu')\n",
        "if device.type == 'cuda':\n",
        "  float_tensor = torch.cuda.FloatTensor\n",
        "  long_tensor = torch.cuda.LongTensor\n",
        "else:\n",
        "  float_tensor = torch.FloatTensor\n",
        "  long_tensor = torch.LongTensor"
      ],
      "execution_count": 0,
      "outputs": []
    },
    {
      "cell_type": "code",
      "metadata": {
        "id": "wkr9SVM4lfW7",
        "colab_type": "code",
        "colab": {}
      },
      "source": [
        "class PascalDataset(torchvision.datasets.voc.VOCSegmentation):\n",
        "  def __init__(self,\n",
        "              root,\n",
        "              year='2012',\n",
        "              image_set='train',\n",
        "              download=False,\n",
        "              transform=None,\n",
        "              target_transform=None,\n",
        "              transforms=None):\n",
        "    # I don't pass the parent the transform so that I can control it for later \n",
        "    super(PascalDataset, self).__init__(root,\n",
        "                                        year,\n",
        "                                        image_set,\n",
        "                                        download, \n",
        "                                        target_transform,\n",
        "                                        transforms=None)   \n",
        "    self._transform = transform\n",
        "    self._target_transform = target_transform\n",
        "    \n",
        "  def __getitem__(self, index):\n",
        "        # img, target = super(PascalDataset, self).__getitem__(idx)\n",
        "        img = Image.open(self.images[index]).convert('RGB')\n",
        "        target = Image.open(self.masks[index])\n",
        "        if self._transform is not None:\n",
        "          img = self._transform(img)\n",
        "        if self._target_transform is not None:\n",
        "          target = self._target_transform(target)\n",
        "\n",
        "        return img, target \n",
        "        "
      ],
      "execution_count": 0,
      "outputs": []
    },
    {
      "cell_type": "code",
      "metadata": {
        "id": "_dfwTWq7o6Ki",
        "colab_type": "code",
        "colab": {}
      },
      "source": [
        "class ImgToTensor(object):\n",
        "    def __call__(self, pic):\n",
        "        # the dataset already converts things to RGB\n",
        "        return torch.from_numpy(pic)\n",
        "\n",
        "class GtToTensor(object):\n",
        "\n",
        "    def __call__(self, pic):\n",
        "      # return torch.from_numpy(np.array(pic))\n",
        "      return torch.from_numpy(np.array(pic, np.int64, copy=False))"
      ],
      "execution_count": 0,
      "outputs": []
    },
    {
      "cell_type": "code",
      "metadata": {
        "id": "uPi74cStNyLq",
        "colab_type": "code",
        "colab": {}
      },
      "source": [
        "# TODO: download data into gdrive\n",
        "# just check if data is already downloaded\n",
        "data_exists = not Path(\"data\").exists()\n",
        "\n",
        "# !mkdir original\n",
        "original_transforms = transforms.Compose([transforms.ToTensor()])\n",
        "\n",
        "train_transforms = transforms.Compose([\n",
        "    # transforms.RandomVerticalFlip(p=0.5),\n",
        "    # transforms.RandomHorizontalFlip(p=0.5),\n",
        "    # transforms.CenterCrop((112,246)),\n",
        "    transforms.Resize((256,256)),  #add random crop? \n",
        "    transforms.ToTensor(), \n",
        "    transforms.Normalize(mean=[0.485, 0.456, 0.406], \n",
        "                         std=[0.229, 0.224, 0.225]) # picked popular mean and std found online \n",
        "])\n",
        "\n",
        "# it dosen't make sense to normalize the ground truth \n",
        "gt_transforms = transforms.Compose([\n",
        "    # transforms.CenterCrop((112,246)),\n",
        "    transforms.Resize((256,256)),\n",
        "    # transforms.RandomVerticalFlip(p=0.5),\n",
        "    # transforms.RandomHorizontalFlip(p=0.5),\n",
        "    GtToTensor()\n",
        "])\n",
        "# pascal_original = PascalDataset('original/', year='2012', image_set='train', download= not Path(\"original\").exists(), transform=[])\n",
        "pascal_train_data = PascalDataset('data/', year='2012', image_set='train', download=data_exists, transform=train_transforms, target_transform=gt_transforms)\n",
        "pascal_val_data = PascalDataset('data/', year='2012', image_set='val', download= data_exists, transform=train_transforms, target_transform=gt_transforms)"
      ],
      "execution_count": 0,
      "outputs": []
    },
    {
      "cell_type": "code",
      "metadata": {
        "id": "xtNXvP_jAHGa",
        "colab_type": "code",
        "colab": {}
      },
      "source": [
        "# img, label = pascal_original.__getitem__(0)"
      ],
      "execution_count": 0,
      "outputs": []
    },
    {
      "cell_type": "code",
      "metadata": {
        "id": "1f276j8uNyDx",
        "colab_type": "code",
        "colab": {}
      },
      "source": [
        "train_loader = torch.utils.data.DataLoader(pascal_train_data,\n",
        "                                          batch_size=6,\n",
        "                                          shuffle=True,\n",
        "                                          num_workers=4)\n",
        "val_Loader = torch.utils.data.DataLoader(pascal_val_data,\n",
        "                                         batch_size=1,\n",
        "                                         shuffle=False, \n",
        "                                         num_workers=4)\n",
        "# original_loader = torch.utils.data.DataLoader(pascal_original,\n",
        "#                                          batch_size=1,\n",
        "#                                          shuffle=False, \n",
        "#                                          num_workers=4)"
      ],
      "execution_count": 0,
      "outputs": []
    },
    {
      "cell_type": "code",
      "metadata": {
        "id": "_WVjeuuBO9g1",
        "colab_type": "code",
        "colab": {}
      },
      "source": [
        "def train_model(model, criterion, optimizer, scheduler, data_loader = train_loader, num_epochs=25):\n",
        "    since = time.time()\n",
        "    model.train()\n",
        "    best_acc = 0.0\n",
        "    print(\"BEGIN TRAINING\")\n",
        "    writer = SummaryWriter('runs/unet_voc') \n",
        "    for epoch in range(num_epochs):\n",
        "        print('Epoch {}/{}'.format(epoch, num_epochs - 1))\n",
        "        print('-' * 10)\n",
        "        i = 0 \n",
        "\n",
        "        running_loss = 0.0\n",
        "        running_corrects = 0\n",
        "\n",
        "        # Iterate over data.\n",
        "        for inputs, labels in data_loader:\n",
        "          i += 1\n",
        "          inputs = Variable(inputs, requires_grad = True).to(device) # 1 x 3 x 256 x 256\n",
        "          labels = labels.type(float_tensor)\n",
        "          # labels = Variable(labels, requires_grad = True).to(device) # 1 x 1 x 256 x 256 \n",
        "          labels = labels.to(device)\n",
        "          optimizer.zero_grad() # possible error. Should we zero out for the first iteration???\n",
        "          outputs = model(inputs) # N x C x H x W  \n",
        "          labels = labels.squeeze(1) # N x H x W\n",
        "          labels = labels.type(long_tensor)\n",
        "          # outputs = outputs.permute(2, 3, 1, 0).contiguous().view(256 * 256, 21)\n",
        "          # labels = labels.permute(1, 2, 0).contiguous().view(256*256)\n",
        "          # labels = labels * 255 #unnormalize the reference \n",
        "          # assert(is_catagorical(labels))\n",
        "          loss = criterion(input=outputs, target=labels)\n",
        "          loss.backward()\n",
        "          optimizer.step()\n",
        "\n",
        "          # statistics\n",
        "          # running_loss += loss.item() * inputs.size(0)\n",
        "          running_loss += loss.item()\n",
        "          # running_corrects += torch.sum(outputs == labels.data)\n",
        "      \n",
        "          if i % 400 == 0:   \n",
        "            # ...log the running loss\n",
        "            writer.add_scalar('training loss',\n",
        "                            running_loss / 1474,\n",
        "                            epoch * len(data_loader.dataset) + i)\n",
        "        if (epoch + 1) % 20 == 0:\n",
        "          path = \"int\" + str(epoch) + \".pth\"\n",
        "          torch.save(model.state_dict(), path)\n",
        "        scheduler.step()\n",
        "        epoch_loss = (running_loss/6.0) / len(data_loader.dataset)\n",
        "        print(\"epoch loss {}\".format(epoch_loss))\n",
        "\n",
        "    time_elapsed = time.time() - since\n",
        "    print('Training complete in {:.0f}m {:.0f}s'.format(\n",
        "        time_elapsed // 60, time_elapsed % 60))\n",
        "    return model"
      ],
      "execution_count": 0,
      "outputs": []
    },
    {
      "cell_type": "code",
      "metadata": {
        "id": "iYDVuld0Wg9x",
        "colab_type": "code",
        "outputId": "8f6113dc-28bf-4baf-83c2-945874f03d5e",
        "colab": {
          "base_uri": "https://localhost:8080/",
          "height": 102
        }
      },
      "source": [
        "min_h = float(\"inf\")\n",
        "min_w = float(\"inf\")\n",
        "max_h = float(\"-inf\") \n",
        "max_w = float(\"-inf\")\n",
        "small_count = 0 \n",
        "big_count = 0 \n",
        "avg_h = 0\n",
        "avg_w = 0 \n",
        "for img, gt in train_loader:\n",
        "  \"in iterator\"\n",
        "  print(\"img.shape: \", img.shape)\n",
        "  print(\"gt.shape: \", gt.shape)\n",
        "  _,_,h, w = img.shape\n",
        "  assert((h,w) == (gt.shape[1],gt.shape[2]))\n",
        "  if w < min_w:\n",
        "    min_w = w \n",
        "  if h < min_h:\n",
        "    min_h = h \n",
        "  if h > max_h:\n",
        "    max_h = h\n",
        "  if w >= max_w:\n",
        "    max_w = w\n",
        "  avg_h += h\n",
        "  avg_w += w \n",
        "  break\n",
        "print(min_h, min_w, small_count, big_count)\n",
        "print(avg_h/len(train_loader.dataset), avg_w/len(train_loader.dataset))\n",
        "print(len(train_loader.dataset))"
      ],
      "execution_count": 0,
      "outputs": [
        {
          "output_type": "stream",
          "text": [
            "img.shape:  torch.Size([6, 3, 256, 256])\n",
            "gt.shape:  torch.Size([6, 256, 256])\n",
            "256 256 0 0\n",
            "0.17486338797814208 0.17486338797814208\n",
            "1464\n"
          ],
          "name": "stdout"
        }
      ]
    },
    {
      "cell_type": "code",
      "metadata": {
        "id": "wJNhNlRcQibr",
        "colab_type": "code",
        "colab": {}
      },
      "source": [
        "prebuilt_model = torch.hub.load('mateuszbuda/brain-segmentation-pytorch', 'unet',\n",
        "    in_channels=3, out_channels=21, init_features=40, pretrained=False)\n",
        "prebuilt_model.to(device)"
      ],
      "execution_count": 0,
      "outputs": []
    },
    {
      "cell_type": "code",
      "metadata": {
        "id": "vQ-w32bZw3Yx",
        "colab_type": "code",
        "colab": {}
      },
      "source": [
        "def sample_data():\n",
        "  for inputs, labels in train_loader:\n",
        "    x , y = inputs, labels\n",
        "    break\n",
        "  return x, y"
      ],
      "execution_count": 0,
      "outputs": []
    },
    {
      "cell_type": "code",
      "metadata": {
        "id": "7EU8GAsS3CfP",
        "colab_type": "code",
        "colab": {}
      },
      "source": [
        "def sample_original():\n",
        "  for inputs, labels in original_loader:\n",
        "    x, y = inputs, labels\n",
        "    break \n",
        "  return x,y"
      ],
      "execution_count": 0,
      "outputs": []
    },
    {
      "cell_type": "code",
      "metadata": {
        "id": "DXWgb_C0vZtP",
        "colab_type": "code",
        "colab": {}
      },
      "source": [
        "# inputs, labels = sample_data()\n",
        "# print(\"LABELS\", labels.dtype, labels.shape)\n",
        "# inputs = Variable(inputs, requires_grad = True).to(device)\n",
        "# labels = labels.type(torch.FloatTensor)\n",
        "# labels = Variable(labels, requires_grad = True).to(device)\n",
        "\n",
        "# print(\"inputs shape is {}\".format(inputs.shape))\n",
        "# print(\"labels shape is {}\".format(labels.shape))\n",
        "# outputs = prebuilt_model(inputs)\n",
        "# print(\"preds shape\", outputs.shape)\n",
        "# # om = torch.argmax(outputs.squeeze(0), dim=0).detach().cpu().numpy()\n",
        "# om = torch.argmax(outputs, dim=1).detach().cpu().numpy()\n",
        "# print(om.shape)\n",
        "# unorm = labels.detach().cpu().numpy().squeeze(0) * 255\n",
        "# print(unorm.shape)\n",
        "# plt.matshow(unorm * 255);\n",
        "# plt.colorbar()\n",
        "# plt.show()"
      ],
      "execution_count": 0,
      "outputs": []
    },
    {
      "cell_type": "code",
      "metadata": {
        "id": "Xqdjv_rtQi7Y",
        "colab_type": "code",
        "outputId": "0420d477-5449-40e2-bef1-9f5d32d32a7e",
        "colab": {
          "base_uri": "https://localhost:8080/",
          "height": 71
        }
      },
      "source": [
        "# criterion = CrossEntropyLoss2d(size_average=False)\n",
        "# F.binary_cross_entropy_with_logits\n",
        "# nn.BCEWithLogitsLoss()\n",
        "num_epochs = 80 \n",
        "lr = 0.001\n",
        "criterion = nn.CrossEntropyLoss(size_average=False,ignore_index=255)\n",
        "# optimizer = optim.SGD(prebuilt_model.parameters(), lr=lr, momentum=0.9)\n",
        "optimizer = torch.optim.Adam(params=prebuilt_model.parameters(), lr=lr)\n",
        "# sched = lr_scheduler.StepLR(optimizer, step_size=7, gamma=0.1)\n",
        "sched = lr_scheduler.LambdaLR(\n",
        "        optimizer,\n",
        "        lambda x: (1 - x / (len(train_loader) * num_epochs)) ** 0.9)"
      ],
      "execution_count": 0,
      "outputs": [
        {
          "output_type": "stream",
          "text": [
            "/usr/local/lib/python3.6/dist-packages/torch/nn/_reduction.py:43: UserWarning: size_average and reduce args will be deprecated, please use reduction='sum' instead.\n",
            "  warnings.warn(warning.format(ret))\n"
          ],
          "name": "stderr"
        }
      ]
    },
    {
      "cell_type": "code",
      "metadata": {
        "id": "gihSuYs4kJ1Z",
        "colab_type": "code",
        "outputId": "bcc6dc4d-f3b5-4f06-e004-3ef737903a62",
        "colab": {
          "base_uri": "https://localhost:8080/",
          "height": 1000
        }
      },
      "source": [
        "# Start training\n",
        "trained_model = train_model(model=prebuilt_model, criterion=criterion, optimizer=optimizer, scheduler=sched, num_epochs=num_epochs)"
      ],
      "execution_count": 0,
      "outputs": [
        {
          "output_type": "stream",
          "text": [
            "BEGIN TRAINING\n",
            "Epoch 0/79\n",
            "----------\n",
            "epoch loss 26737.673603995903\n",
            "Epoch 1/79\n",
            "----------\n",
            "epoch loss 24710.787397540982\n",
            "Epoch 2/79\n",
            "----------\n",
            "epoch loss 24549.57517930328\n",
            "Epoch 3/79\n",
            "----------\n",
            "epoch loss 24515.129546618853\n",
            "Epoch 4/79\n",
            "----------\n",
            "epoch loss 24474.067267190345\n",
            "Epoch 5/79\n",
            "----------\n",
            "epoch loss 24476.166310906192\n",
            "Epoch 6/79\n",
            "----------\n",
            "epoch loss 24465.8095685337\n",
            "Epoch 7/79\n",
            "----------\n",
            "epoch loss 24468.724819273677\n",
            "Epoch 8/79\n",
            "----------\n",
            "epoch loss 24458.52774220173\n",
            "Epoch 9/79\n",
            "----------\n",
            "epoch loss 24452.625334414846\n",
            "Epoch 10/79\n",
            "----------\n",
            "epoch loss 24462.928705601094\n",
            "Epoch 11/79\n",
            "----------\n",
            "epoch loss 24450.474584471765\n",
            "Epoch 12/79\n",
            "----------\n",
            "epoch loss 24441.119556864753\n",
            "Epoch 13/79\n",
            "----------\n",
            "epoch loss 24440.484239811023\n",
            "Epoch 14/79\n",
            "----------\n",
            "epoch loss 24434.104501081514\n",
            "Epoch 15/79\n",
            "----------\n",
            "epoch loss 24434.98851605191\n",
            "Epoch 16/79\n",
            "----------\n",
            "epoch loss 24442.14051115665\n",
            "Epoch 17/79\n",
            "----------\n",
            "epoch loss 24428.97772227914\n",
            "Epoch 18/79\n",
            "----------\n",
            "epoch loss 24432.743027094715\n",
            "Epoch 19/79\n",
            "----------\n",
            "epoch loss 24425.421810963115\n",
            "Epoch 20/79\n",
            "----------\n",
            "epoch loss 24417.802474669854\n",
            "Epoch 21/79\n",
            "----------\n",
            "epoch loss 24417.41975466758\n",
            "Epoch 22/79\n",
            "----------\n",
            "epoch loss 24414.19140625\n",
            "Epoch 23/79\n",
            "----------\n",
            "epoch loss 24422.522469831514\n",
            "Epoch 24/79\n",
            "----------\n",
            "epoch loss 24420.461656136158\n",
            "Epoch 25/79\n",
            "----------\n",
            "epoch loss 24406.568128130693\n",
            "Epoch 26/79\n",
            "----------\n",
            "epoch loss 24407.279819842897\n",
            "Epoch 27/79\n",
            "----------\n",
            "epoch loss 24400.528482183512\n",
            "Epoch 28/79\n",
            "----------\n",
            "epoch loss 24381.92588797814\n",
            "Epoch 29/79\n",
            "----------\n",
            "epoch loss 24361.97497580829\n",
            "Epoch 30/79\n",
            "----------\n",
            "epoch loss 24346.96712061703\n",
            "Epoch 31/79\n",
            "----------\n",
            "epoch loss 24332.898245389344\n",
            "Epoch 32/79\n",
            "----------\n",
            "epoch loss 24333.069814435337\n",
            "Epoch 33/79\n",
            "----------\n",
            "epoch loss 24319.591103142076\n",
            "Epoch 34/79\n",
            "----------\n",
            "epoch loss 24312.409729337433\n",
            "Epoch 35/79\n",
            "----------\n",
            "epoch loss 24297.427346596083\n",
            "Epoch 36/79\n",
            "----------\n",
            "epoch loss 24290.442124886158\n",
            "Epoch 37/79\n",
            "----------\n",
            "epoch loss 24286.16082507969\n",
            "Epoch 38/79\n",
            "----------\n",
            "epoch loss 24281.544711976323\n",
            "Epoch 39/79\n",
            "----------\n",
            "epoch loss 24290.021715619307\n",
            "Epoch 40/79\n",
            "----------\n",
            "epoch loss 24262.43350125228\n",
            "Epoch 41/79\n",
            "----------\n",
            "epoch loss 24261.14431067851\n",
            "Epoch 42/79\n",
            "----------\n",
            "epoch loss 24251.274768044168\n",
            "Epoch 43/79\n",
            "----------\n",
            "epoch loss 24243.443917918947\n",
            "Epoch 44/79\n",
            "----------\n",
            "epoch loss 24256.52089025501\n",
            "Epoch 45/79\n",
            "----------\n",
            "epoch loss 24238.242749601548\n",
            "Epoch 46/79\n",
            "----------\n",
            "epoch loss 24251.666688012294\n",
            "Epoch 47/79\n",
            "----------\n",
            "epoch loss 24239.869001878415\n",
            "Epoch 48/79\n",
            "----------\n",
            "epoch loss 24225.98317964481\n",
            "Epoch 49/79\n",
            "----------\n",
            "epoch loss 24213.153837943988\n",
            "Epoch 50/79\n",
            "----------\n",
            "epoch loss 24218.145128927597\n",
            "Epoch 51/79\n",
            "----------\n",
            "epoch loss 24213.516884392076\n",
            "Epoch 52/79\n",
            "----------\n",
            "epoch loss 24221.282452470397\n",
            "Epoch 53/79\n",
            "----------\n"
          ],
          "name": "stdout"
        }
      ]
    },
    {
      "cell_type": "code",
      "metadata": {
        "id": "Br5SN8ZlnMuD",
        "colab_type": "code",
        "colab": {}
      },
      "source": [
        "%tensorboard --logdir=runs"
      ],
      "execution_count": 0,
      "outputs": []
    },
    {
      "cell_type": "code",
      "metadata": {
        "id": "_Seg2xGZuK4w",
        "colab_type": "code",
        "colab": {}
      },
      "source": [
        "#save trained model in google drive \n",
        "from google.colab import drive\n",
        "main_dir = '/content/drive/'\n",
        "drive.mount(main_dir)\n",
        "torch.save(trained_model.state_dict(),\"drive/My Drive/Colab Notebooks/unet_addamlr.pth\")\n",
        "drive.flush_and_unmount()"
      ],
      "execution_count": 0,
      "outputs": []
    },
    {
      "cell_type": "code",
      "metadata": {
        "id": "fgIEMyLPuZa2",
        "colab_type": "code",
        "colab": {}
      },
      "source": [
        "#visualize results \n",
        "img, gt = sample_data()\n",
        "img = Variable(img, requires_grad=True).cuda()\n",
        "print(\"gt shape before being var: \", gt.shape)\n",
        "gt = Variable(gt, requires_grad=True).cuda()\n",
        "# assert(is_catagorical(gt * 255))\n",
        "pred = trained_model(img)\n",
        "pred = pred.squeeze(0)\n",
        "\n",
        "logsoftmax = nn.LogSoftmax(dim=0)\n",
        "# pred = logsoftmax(pred)\n",
        "print(pred.shape)\n",
        "pred = pred.argmax(dim = 0)\n",
        "# assert(is_catagorical(pred))\n",
        "unique = torch.unique(pred)\n",
        "print('unique items: ', unique)\n",
        "# img = img * 255\n",
        "# print(type(img.detach().cpu().squeeze(0)))\n",
        "# img = img.permute(2,3,1,0)\n",
        "img = transforms.ToPILImage(mode='RGB')(img.detach().cpu().squeeze(0))\n",
        "pred = transforms.ToPILImage()(np.float32(pred.detach().cpu()))\n",
        "\n",
        "plt.imshow(img)\n",
        "plt.show()\n",
        "\n",
        "plt.imshow(pred)\n",
        "plt.show()\n",
        "\n",
        "# gt = gt.squeeze(0)\n",
        "# gt = gt.detach().cpu().numpy()\n",
        "# gt = transforms.ToPILImage()(gt * 255)\n",
        "# plt.imshow(gt)\n",
        "# plt.show()\n",
        "print(\"Gt\", gt.shape)\n",
        "gt = transforms.ToPILImage()(gt * 255)\n",
        "plt.imshow(gt)\n",
        "plt.show()\n",
        "\n",
        "print(np.sum(np.array(gt)))\n",
        "plt.matshow(np.array(gt));\n",
        "plt.colorbar()\n",
        "plt.show()"
      ],
      "execution_count": 0,
      "outputs": []
    },
    {
      "cell_type": "code",
      "metadata": {
        "id": "nWjTuIE-ArZi",
        "colab_type": "code",
        "colab": {}
      },
      "source": [
        "def loss_fn(inputs, target):\n",
        "    losses = {}\n",
        "    for name, x in inputs.items():\n",
        "        losses[name] = nn.functional.cross_entropy(x, target, ignore_index=255)\n",
        "\n",
        "    if len(losses) == 1:\n",
        "        return losses['out']\n",
        "\n",
        "    return losses['out'] + 0.5"
      ],
      "execution_count": 0,
      "outputs": []
    },
    {
      "cell_type": "code",
      "metadata": {
        "id": "AIDwA04K-IUz",
        "colab_type": "code",
        "colab": {}
      },
      "source": [
        "criterion = nn.functional.cross_entropy\n",
        "test_pred = Variable(torch.ones(1,21,256,256), requires_grad=True).cuda()\n",
        "test_gt = torch.ones(1,256,256)\n",
        "test_gt = test_gt.type(torch.cuda.LongTensor)\n",
        "unique = torch.unique(test_pred)\n",
        "print(unique)\n",
        "print(criterion(input=test_pred, target = test_gt, ignore_index=255))\n",
        "criterion(test_pred.permute(2,3,0,1).contiguous().view(256*256, 21), test_gt.permute(1,2,0).contiguous().view(256*256))"
      ],
      "execution_count": 0,
      "outputs": []
    },
    {
      "cell_type": "code",
      "metadata": {
        "id": "KRY7A9AwuaEr",
        "colab_type": "code",
        "colab": {}
      },
      "source": [
        "img, gt = sample_data()\n",
        "img = Variable(img, requires_grad = True).cuda()\n",
        "pred = prebuilt_model(img) # 1 x 20 x H x W\n",
        "pred = pred.squeeze(0)\n",
        "print(torch.sum(pred))\n",
        "pred = softmax(pred)\n",
        "print(torch.sum(pred))\n",
        "# print(torch.sum(logsoftmax(pred)))\n",
        "pred = pred.argmax(dim=0)\n",
        "pred = pred.detach().cpu().numpy()\n",
        "print(np.sum(pred))\n",
        "# rgb = decode_segmap(pred)\n",
        "# plt.imshow(rgb); plt.show()\n",
        "# print(type(pred))\n",
        "pred_img = transforms.ToPILImage()(np.float32(pred))\n",
        "print(pred.shape)\n",
        "print(type(pred))\n",
        "plt.imshow(pred_img)\n",
        "plt.show()"
      ],
      "execution_count": 0,
      "outputs": []
    },
    {
      "cell_type": "code",
      "metadata": {
        "id": "D1iydFZaQkJD",
        "colab_type": "code",
        "outputId": "354f6bc8-87e2-4d0c-94e2-36ff4545c411",
        "colab": {
          "base_uri": "https://localhost:8080/",
          "height": 240
        }
      },
      "source": [
        "np.set_printoptions(threshold=sys.maxsize)\n",
        "softmax = nn.Softmax(dim=0)\n",
        "\n",
        "img, gt = sample_original()\n",
        "# img = Variable(img, requires_grad = True).cuda()\n",
        "gt = Variable(gt, requires_grad=True).cuda()\n",
        "# pred = prebuilt_model(img) # 1 x 20 x H x W\n",
        "# pred = pred.squeeze(0)\n",
        "# print(torch.sum(pred))\n",
        "# pred = softmax(pred)\n",
        "# print(torch.sum(pred))\n",
        "# print(torch.sum(logsoftmax(pred)))\n",
        "# pred = pred.argmax(dim=0)\n",
        "# pred_detached = pred.detach().byte().cpu().numpy()\n",
        "# output_predictions.byte().cpu().numpy()\n",
        "\n",
        "gt = gt.squeeze(0).squeeze(0)\n",
        "gt_detached = gt.detach().byte().cpu().numpy()\n",
        "palette = torch.tensor([2 ** 25 - 1, 2 ** 15 - 1, 2 ** 21 - 1])\n",
        "colors = torch.as_tensor([i for i in range(21)])[:, None] * palette\n",
        "colors = (colors % 255).numpy().astype(\"uint8\")\n",
        "\n",
        "# plot the semantic segmentation predictions of 21 classes in each color\n",
        "r = Image.fromarray(gt_detached)\n",
        "r.putpalette(colors)\n",
        "\n",
        "plt.imshow(r)\n",
        "plt.show()"
      ],
      "execution_count": 0,
      "outputs": [
        {
          "output_type": "display_data",
          "data": {
            "image/png": "[encoded data removed]",
            "text/plain": [
              "<Figure size 432x288 with 1 Axes>"
            ]
          },
          "metadata": {
            "tags": []
          }
        }
      ]
    },
    {
      "cell_type": "code",
      "metadata": {
        "id": "HoRXJClJQjqT",
        "colab_type": "code",
        "outputId": "40d6fe8b-ef9f-42d4-a483-4b4e060bc763",
        "colab": {
          "base_uri": "https://localhost:8080/",
          "height": 264
        }
      },
      "source": [
        "plt.matshow(gt.detach().cpu().numpy());\n",
        "plt.colorbar()\n",
        "plt.show()"
      ],
      "execution_count": 0,
      "outputs": [
        {
          "output_type": "display_data",
          "data": {
            "image/png": "[encoded data removed]",
            "text/plain": [
              "<Figure size 512.456x288 with 2 Axes>"
            ]
          },
          "metadata": {
            "tags": []
          }
        }
      ]
    },
    {
      "cell_type": "code",
      "metadata": {
        "id": "9SijPLPm453b",
        "colab_type": "code",
        "colab": {}
      },
      "source": [
        "#https://github.com/tensorflow/models/blob/a76bc1256ffd04bdccb73442986858a0675c9c31/research/deeplab/utils/get_dataset_colormap.py#L317\n",
        "_ADE20K = 'ade20k'\n",
        "_CITYSCAPES = 'cityscapes'\n",
        "_MAPILLARY_VISTAS = 'mapillary_vistas'\n",
        "_PASCAL = 'pascal'\n",
        "\n",
        "_DATASET_MAX_ENTRIES = {\n",
        "    _ADE20K: 151,\n",
        "    _CITYSCAPES: 256,\n",
        "    _MAPILLARY_VISTAS: 66,\n",
        "    _PASCAL: 512,\n",
        "}\n",
        "def create_pascal_label_colormap():\n",
        "  \"\"\"Creates a label colormap used in PASCAL VOC segmentation benchmark.\n",
        "  Returns:\n",
        "    A colormap for visualizing segmentation results.\n",
        "  \"\"\"\n",
        "  colormap = np.zeros((_DATASET_MAX_ENTRIES[_PASCAL], 3), dtype=int)\n",
        "  ind = np.arange(_DATASET_MAX_ENTRIES[_PASCAL], dtype=int)\n",
        "\n",
        "  for shift in reversed(list(range(8))):\n",
        "    for channel in range(3):\n",
        "      colormap[:, channel] |= bit_get(ind, channel) << shift\n",
        "    ind >>= 3\n",
        "\n",
        "  return colormap\n",
        "\n",
        "def bit_get(val, idx):\n",
        "  \"\"\"Gets the bit value.\n",
        "  Args:\n",
        "    val: Input value, int or numpy int array.\n",
        "    idx: Which bit of the input val.\n",
        "  Returns:\n",
        "    The \"idx\"-th bit of input val.\n",
        "  \"\"\"\n",
        "  return (val >> idx) & 1\n",
        "\n",
        "def label_to_color_image(label, dataset=_PASCAL):\n",
        "  \"\"\"Adds color defined by the dataset colormap to the label.\n",
        "  Args:\n",
        "    label: A 2D array with integer type, storing the segmentation label.\n",
        "    dataset: The colormap used in the dataset.\n",
        "  Returns:\n",
        "    result: A 2D array with floating type. The element of the array\n",
        "      is the color indexed by the corresponding element in the input label\n",
        "      to the dataset color map.\n",
        "  Raises:\n",
        "    ValueError: If label is not of rank 2 or its value is larger than color\n",
        "      map maximum entry.\n",
        "  \"\"\"\n",
        "  if label.ndim != 2:\n",
        "    raise ValueError('Expect 2-D input label. Got {}'.format(label.shape))\n",
        "\n",
        "  if np.max(label) >= _DATASET_MAX_ENTRIES[dataset]:\n",
        "    raise ValueError(\n",
        "        'label value too large: {} >= {}.'.format(\n",
        "            np.max(label), _DATASET_MAX_ENTRIES[dataset]))\n",
        "\n",
        "  colormap = create_pascal_label_colormap()\n",
        "  return colormap[label]"
      ],
      "execution_count": 0,
      "outputs": []
    },
    {
      "cell_type": "code",
      "metadata": {
        "id": "NSlQwxAZ5xpc",
        "colab_type": "code",
        "colab": {}
      },
      "source": [
        "# print(type(gt.detach().cpu().numpy()))\n",
        "# label_to_color_image(label = gt.detach().cpu().numpy().astype(int))"
      ],
      "execution_count": 0,
      "outputs": []
    },
    {
      "cell_type": "code",
      "metadata": {
        "id": "PfIu8Q629tIb",
        "colab_type": "code",
        "outputId": "5b85910b-c0e9-46bd-a829-b12b87482eb3",
        "colab": {
          "base_uri": "https://localhost:8080/",
          "height": 303
        }
      },
      "source": [
        "gt = Image.open('data/VOCdevkit/VOC2012/SegmentationObject/2011_000069.png')\n",
        "print(gt.mode)\n",
        "plt.imshow(gt)\n",
        "plt.show()\n",
        "print(\"sum: \", np.sum(np.array(gt)))"
      ],
      "execution_count": 0,
      "outputs": [
        {
          "output_type": "stream",
          "text": [
            "P\n"
          ],
          "name": "stdout"
        },
        {
          "output_type": "display_data",
          "data": {
            "image/png": "[encoded data removed]",
            "text/plain": [
              "<Figure size 432x288 with 1 Axes>"
            ]
          },
          "metadata": {
            "tags": []
          }
        },
        {
          "output_type": "stream",
          "text": [
            "sum:  2124018\n"
          ],
          "name": "stdout"
        }
      ]
    },
    {
      "cell_type": "code",
      "metadata": {
        "id": "23h4M4crI2Y6",
        "colab_type": "code",
        "outputId": "b7736843-9255-401f-a246-2e4e6ed8d8ca",
        "colab": {
          "base_uri": "https://localhost:8080/",
          "height": 648
        }
      },
      "source": [
        "print(\"before tensor shape: \", gt.size)\n",
        "gt_tensor = transforms.ToTensor()(gt)\n",
        "print(\"shpe: \", gt_tensor.shape)\n",
        "print(\"mean: \", torch.mean(gt_tensor))\n",
        "print(\"sum of gt_tensor\", torch.sum(gt_tensor))\n",
        "print(torch.sum(gt_tensor * 255))\n",
        "test = gt_tensor * 255 \n",
        "test = test.detach().byte().cpu().numpy()\n",
        "print(\"test shape: \", test.shape)\n",
        "test = test.squeeze(0)\n",
        "# print(test)\n",
        "# assert(is_catagorical(test))\n",
        "print(torch.sum(Variable(gt_tensor, requires_grad = True).to(device)))\n",
        "gt_img = transforms.ToPILImage(mode=\"L\")(gt_tensor * 255)\n",
        "plt.imshow(gt_img)\n",
        "plt.show()\n",
        "\n",
        "print(np.sum(np.array(gt_img)))\n",
        "plt.matshow(np.array(gt_img));\n",
        "plt.colorbar()\n",
        "plt.show()"
      ],
      "execution_count": 0,
      "outputs": [
        {
          "output_type": "stream",
          "text": [
            "before tensor shape:  (500, 375)\n",
            "shpe:  torch.Size([1, 375, 500])\n",
            "mean:  tensor(0.0444)\n",
            "sum of gt_tensor tensor(8329.4941)\n",
            "tensor(2124018.)\n",
            "test shape:  (1, 375, 500)\n",
            "tensor(8329.4824, device='cuda:0', grad_fn=<SumBackward0>)\n"
          ],
          "name": "stdout"
        },
        {
          "output_type": "display_data",
          "data": {
            "image/png": "[encoded data removed]",
            "text/plain": [
              "<Figure size 432x288 with 1 Axes>"
            ]
          },
          "metadata": {
            "tags": []
          }
        },
        {
          "output_type": "stream",
          "text": [
            "5680910\n"
          ],
          "name": "stdout"
        },
        {
          "output_type": "display_data",
          "data": {
            "image/png": "[encoded data removed]",
            "text/plain": [
              "<Figure size 384x288 with 2 Axes>"
            ]
          },
          "metadata": {
            "tags": []
          }
        }
      ]
    },
    {
      "cell_type": "code",
      "metadata": {
        "id": "Uzc4vO1NDCw3",
        "colab_type": "code",
        "outputId": "6897c01f-2aa8-481e-85aa-1905b8e75907",
        "colab": {
          "base_uri": "https://localhost:8080/",
          "height": 345
        }
      },
      "source": [
        "gt_var = Variable(gt_tensor, requires_grad=True).cuda()\n",
        "print(\"shape: \", gt_var.shape)\n",
        "print(\"sum of gt_var: \", torch.sum(gt_var))\n",
        "gt_detached = gt_var.detach().byte().cpu().numpy()\n",
        "print(\"shape of detached: \", gt_detached.squeeze(0).shape)\n",
        "print(\"sum of detached: \", np.sum(gt_detached))\n",
        "palette = torch.tensor([2 ** 25 - 1, 2 ** 15 - 1, 2 ** 21 - 1])\n",
        "colors = torch.as_tensor([i for i in range(21)])[:, None] * palette\n",
        "colors = (colors % 255).numpy().astype(\"uint8\")\n",
        "\n",
        "# plot the semantic segmentation predictions of 21 classes in each color\n",
        "# r = Image.fromarray(gt_tensor.numpy().squeeze(0))\n",
        "# r.putpalette(colors)\n",
        "# plt.imshow(r)\n",
        "# plt.show()\n",
        "\n",
        "\n",
        "# plt.matshow(gt_tensor.numpy().squeeze(0) * 255);\n",
        "plt.matshow(gt_detached.squeeze(0) * 255)\n",
        "plt.colorbar()\n",
        "plt.show()\n",
        "np.sum(gt_tensor.numpy().squeeze(0))"
      ],
      "execution_count": 0,
      "outputs": [
        {
          "output_type": "stream",
          "text": [
            "shape:  torch.Size([1, 375, 500])\n",
            "sum of gt_var:  tensor(8329.4824, device='cuda:0', grad_fn=<SumBackward0>)\n",
            "shape of detached:  (375, 500)\n",
            "sum of detached:  8095\n"
          ],
          "name": "stdout"
        },
        {
          "output_type": "display_data",
          "data": {
            "image/png": "[encoded data removed]",
            "text/plain": [
              "<Figure size 384x288 with 2 Axes>"
            ]
          },
          "metadata": {
            "tags": []
          }
        },
        {
          "output_type": "execute_result",
          "data": {
            "text/plain": [
              "8329.482"
            ]
          },
          "metadata": {
            "tags": []
          },
          "execution_count": 166
        }
      ]
    },
    {
      "cell_type": "code",
      "metadata": {
        "id": "JhUAZd_5h4vR",
        "colab_type": "code",
        "outputId": "fb913333-a61e-4289-b21e-e7fd85847b77",
        "colab": {
          "base_uri": "https://localhost:8080/",
          "height": 51
        }
      },
      "source": [
        "m = nn.LogSoftmax(dim=1)\n",
        "loss = nn.NLLLoss()\n",
        "\n",
        "# 2D loss example (used, for example, with image inputs)\n",
        "N, C = 5, 4\n",
        "# input is of size N x C x height x width\n",
        "data = torch.randn(N, 16, 10, 10)\n",
        "conv = nn.Conv2d(16, C, (3, 3))\n",
        "# each element in target has to have 0 <= value < C\n",
        "target = torch.empty(N, 8, 8, dtype=torch.long).random_(0, C)\n",
        "print(\"target\", target.shape)\n",
        "print(\"input\", m(conv(data)).shape)\n",
        "output = loss(m(conv(data)), target)\n",
        "output.backward()"
      ],
      "execution_count": 0,
      "outputs": [
        {
          "output_type": "stream",
          "text": [
            "target torch.Size([5, 8, 8])\n",
            "input torch.Size([5, 4, 8, 8])\n"
          ],
          "name": "stdout"
        }
      ]
    },
    {
      "cell_type": "markdown",
      "metadata": {
        "id": "Cs9znl37mXzG",
        "colab_type": "text"
      },
      "source": [
        "## Create UNet ##"
      ]
    },
    {
      "cell_type": "code",
      "metadata": {
        "id": "IHfzDy9pmXzH",
        "colab_type": "code",
        "colab": {}
      },
      "source": [
        "# helper operations \n",
        "def conv3x3(in_channels, out_channels):\n",
        "    return nn.Conv2d(in_channels, out_channels,\n",
        "        kernel_size=3, stride=1, padding=1, bias=True)\n",
        "\n",
        "def maxpool2x2():\n",
        "    return nn.MaxPool2d(kernel_size=2, stride=2, padding=0)\n",
        "\n",
        "class UpConv2x2(nn.Module):\n",
        "    def __init__(self, channels):\n",
        "        super(UpConv2x2, self).__init__()\n",
        "        self.upsample = nn.Upsample(scale_factor=2)\n",
        "        self.conv = nn.Conv2d(channels, channels // 2,\n",
        "            kernel_size=2, stride=1, padding=0, bias=True)\n",
        "\n",
        "    def forward(self, x):\n",
        "        x = self.upsample(x)\n",
        "        x = F.pad(x, (0,1,0,1))\n",
        "        x = self.conv(x)\n",
        "        return x \n",
        "        \n",
        "def concat(xh, xv):\n",
        "    return torch.cat([xh, xv], dim=1)\n",
        "\n",
        "\n",
        "# unet blocks\n",
        "class ConvBlock(nn.Module):\n",
        "    def __init__(self, in_channels, out_channels):\n",
        "        \"\"\"\n",
        "        Args:\n",
        "            in_channels: number of channels in input (1st) feature map\n",
        "            out_channels: number of channels in output feature maps\n",
        "        \"\"\"\n",
        "        super(ConvBlock, self).__init__()\n",
        "        self.layer1 = conv3x3(in_channels, out_channels)\n",
        "        self.layer2 = conv3x3(out_channels, out_channels)\n",
        "\n",
        "    def forward(self, x):\n",
        "        x = F.sigmoid(self.layer1(x))\n",
        "        x = F.sigmoid(self.layer2(x))\n",
        "        return x\n",
        "\n",
        "class DownConvBlock(nn.Module):\n",
        "    def __init__(self, in_channels, out_channels):\n",
        "        \"\"\"\n",
        "        Args:\n",
        "            in_channels: number of channels in input (1st) feature map\n",
        "            out_channels: number of channels in output feature maps\n",
        "        \"\"\"\n",
        "        super(DownConvBlock, self).__init__()\n",
        "        self.contract = maxpool2x2()\n",
        "        self.layer1 = conv3x3(in_channels, out_channels)\n",
        "        self.layer2 = conv3x3(out_channels, out_channels)\n",
        "\n",
        "    def forward(self, x):\n",
        "        x = self.contract(x)\n",
        "        x = F.sigmoid(self.layer1(x))\n",
        "        x = F.sigmoid(self.layer2(x))\n",
        "        return x\n",
        "\n",
        "class UpConvBlock(nn.Module):\n",
        "    def __init__(self, in_channels, out_channels):\n",
        "        \"\"\"\n",
        "        Args:\n",
        "            in_channels: number of channels in input (1st) feature map\n",
        "            out_channels: number of channels in output feature maps\n",
        "        \"\"\"\n",
        "        super(UpConvBlock, self).__init__()\n",
        "        self.expand = UpConv2x2(in_channels)\n",
        "        self.layer1 = conv3x3(in_channels, out_channels)\n",
        "        self.layer2 = conv3x3(out_channels, out_channels)\n",
        "\n",
        "\n",
        "\n",
        "    def forward(self, xh, xv):\n",
        "        \"\"\"\n",
        "        Args:\n",
        "            xh: torch Variable, activations from same resolution feature maps (gray arrow in diagram)\n",
        "            xv: torch Variable, activations from lower resolution feature maps (green arrow in diagram)\n",
        "        \"\"\"\n",
        "        xv = self.expand.forward(xv)\n",
        "        x = concat(xh, xv)\n",
        "        x = F.sigmoid(self.layer1(x))\n",
        "        x = F.sigmoid(self.layer2(x))\n",
        "        return x\n",
        "\n",
        "class UNet(nn.Module):\n",
        "    def __init__(self):\n",
        "        super(UNet, self).__init__()\n",
        "        fs = [16,32,64,128,256]\n",
        "        self.conv_in = ConvBlock(1, fs[0])\n",
        "        \n",
        "        self.dconv1 = DownConvBlock(fs[0], fs[1])\n",
        "        self.dconv2 = DownConvBlock(fs[1], fs[2])\n",
        "        self.dconv3 = DownConvBlock(fs[2], fs[3])\n",
        "        self.dconv4 = DownConvBlock(fs[3], fs[4])\n",
        "\n",
        "        self.uconv1 = UpConvBlock(fs[4], fs[3])\n",
        "        self.uconv2 = UpConvBlock(fs[3], fs[2])\n",
        "        self.uconv3 = UpConvBlock(fs[2], fs[1])\n",
        "        self.uconv4 = UpConvBlock(fs[1], fs[0])\n",
        "        \n",
        "        # self.conv_out = conv3x3(fs[0], 1)\n",
        "        self.conv_out = conv3x3(fs[0], 20)\n",
        "\n",
        "        self._initialize_weights()\n",
        "\n",
        "    def forward(self, x):\n",
        "        x = self.conv_in(x)\n",
        "        \n",
        "        sub_1 = self.dconv1(x)\n",
        "        sub_2 = self.dconv2(sub_1)\n",
        "        sub_3 = self.dconv3(sub_2)\n",
        "        sub_4 = self.dconv4(sub_3)\n",
        "        \n",
        "        base_1 = self.uconv1(sub_3, sub_4)\n",
        "        base_2 = self.uconv2(sub_2, base_1)\n",
        "        base_3 = self.uconv3(sub_1, base_2)\n",
        "        x = self.uconv4(x, base_3)\n",
        "        \n",
        "        \n",
        "        x = self.conv_out(x)\n",
        "        return x\n",
        "\n",
        "    def _initialize_weights(self):\n",
        "        conv_modules = [m for m in self.modules() if isinstance(m, nn.Conv2d)]\n",
        "        for m in conv_modules:\n",
        "            n = 2/(m.kernel_size[0] * m.kernel_size[1] * m.out_channels)\n",
        "            m.weight.data.normal_(0.0, np.sqrt(n))\n"
      ],
      "execution_count": 0,
      "outputs": []
    },
    {
      "cell_type": "markdown",
      "metadata": {
        "id": "gBzwuYCwmXzM",
        "colab_type": "text"
      },
      "source": [
        "## Train UNet ##"
      ]
    },
    {
      "cell_type": "code",
      "metadata": {
        "id": "TESNRvKEgkgq",
        "colab_type": "code",
        "colab": {}
      },
      "source": [
        "data_exists = not Path(\"data\").exists()\n",
        "\n",
        "train_transforms = transforms.Compose([\n",
        "    # transforms.CenterCrop((112,246)),\n",
        "    transforms.Resize((512,512)),\n",
        "    transforms.Grayscale(1),\n",
        "    transforms.ToTensor(),  # Didn't normalize because image has been converted here to grayscale \n",
        "])\n",
        "\n",
        "# it dosen't make sense to normalize the ground truth \n",
        "test_transforms = transforms.Compose([\n",
        "    # transforms.CenterCrop((112,246)),\n",
        "    transforms.Resize((512,512)),\n",
        "    transforms.ToTensor()\n",
        "])\n",
        "\n",
        "pascal_train_data = torchvision.datasets.VOCSegmentation('data/', year='2012', image_set='train', download=data_exists, transform=train_transforms, target_transform=test_transforms)\n",
        "pascal_val_data = torchvision.datasets.VOCSegmentation('data/', year='2012', image_set='val', download= data_exists, transform=train_transforms, target_transform=test_transforms)"
      ],
      "execution_count": 0,
      "outputs": []
    },
    {
      "cell_type": "code",
      "metadata": {
        "id": "mO49fWE4xvCl",
        "colab_type": "code",
        "colab": {}
      },
      "source": [
        "train_loader = torch.utils.data.DataLoader(pascal_train_data,\n",
        "                                          batch_size=1,\n",
        "                                          shuffle=True,\n",
        "                                          num_workers=4)\n",
        "val_Loader = torch.utils.data.DataLoader(pascal_val_data,\n",
        "                                         batch_size=1,\n",
        "                                         shuffle=False, \n",
        "                                         num_workers=4)"
      ],
      "execution_count": 0,
      "outputs": []
    },
    {
      "cell_type": "code",
      "metadata": {
        "id": "NgiRlPkjkcWj",
        "colab_type": "code",
        "colab": {}
      },
      "source": [
        "def sample_data():\n",
        "  for inputs, labels in train_loader:\n",
        "    x , y = inputs, labels\n",
        "    break\n",
        "  return x, y"
      ],
      "execution_count": 0,
      "outputs": []
    },
    {
      "cell_type": "code",
      "metadata": {
        "id": "yrbOxVVHnexM",
        "colab_type": "code",
        "colab": {}
      },
      "source": [
        "def sample_val():\n",
        "  for inputs, labels in val_Loader:\n",
        "    x , y = inputs, labels\n",
        "    break\n",
        "  return x, y"
      ],
      "execution_count": 0,
      "outputs": []
    },
    {
      "cell_type": "code",
      "metadata": {
        "id": "6ZdzM9VDn5uV",
        "colab_type": "code",
        "colab": {}
      },
      "source": [
        "# train utils\n",
        "def np2var(arr, cuda):\n",
        "    arr = np.expand_dims(np.expand_dims(arr, 0), 0)\n",
        "    arr = torch.from_numpy(arr)\n",
        "    arr = Variable(arr)\n",
        "    if cuda:\n",
        "        arr = arr.cuda()\n",
        "    return arr\n",
        "\n",
        "def var2np(arr):\n",
        "    arr = arr.data.cpu().numpy()[0,0]\n",
        "    return arr\n",
        "    "
      ],
      "execution_count": 0,
      "outputs": []
    },
    {
      "cell_type": "code",
      "metadata": {
        "id": "CUosP0YfpKf7",
        "colab_type": "code",
        "colab": {}
      },
      "source": [
        "# plot utils\n",
        "def plot_learning(plot_handles, ylabel):\n",
        "    plt.legend(handles=plot_handles, loc=\"center right\")\n",
        "    plt.xlabel(\"Iterations\")\n",
        "    plt.ylabel(ylabel)\n",
        "\n",
        "def plot(step, log_every, train_loss, val_loss, img_trn, img_val, pred_trn, pred_val, true_trn, true_val):\n",
        "    clear_output(wait=False)\n",
        "    plt.gcf().clear()\n",
        "    \n",
        "    plt.subplot(241)\n",
        "    iters = np.arange(0,len(train_loss))*log_every\n",
        "    train_plot, = plt.plot(iters, train_loss, 'r', label=\"training\")\n",
        "    val_plot, = plt.plot(iters, val_loss, 'b', label=\"validation\")\n",
        "    plot_learning([train_plot, val_plot], \"Loss\")\n",
        "    plt.title(\"Cross entropy loss\")\n",
        "\n",
        "    plt.subplot(242)\n",
        "    plt.imshow(img_trn, cmap='gray')\n",
        "    plt.title(\"Input image, train\")\n",
        "    \n",
        "    plt.subplot(243)\n",
        "    plt.imshow(pred_trn, cmap='gray')\n",
        "    plt.title(\"Predicted, train\")\n",
        "    \n",
        "    \n",
        "    plt.subplot(244)\n",
        "    plt.imshow(true_trn, cmap='gray')\n",
        "    plt.title(\"True, train\")\n",
        "    \n",
        "    plt.subplot(246)\n",
        "    plt.imshow(img_val, cmap='gray')\n",
        "    plt.title(\"Input image, val\")\n",
        "    \n",
        "    plt.subplot(247)\n",
        "    plt.imshow(pred_val, cmap='gray')\n",
        "    plt.title(\"Predicted, val\")\n",
        "    \n",
        "    \n",
        "    plt.subplot(248)\n",
        "    plt.imshow(true_val, cmap='gray')\n",
        "    plt.title(\"True, val\")\n",
        "\n",
        "\n",
        "    plt.gcf().set_size_inches(18, 7)\n",
        "    display(plt.gcf())"
      ],
      "execution_count": 0,
      "outputs": []
    },
    {
      "cell_type": "code",
      "metadata": {
        "id": "_XSY2MUmY7YE",
        "colab_type": "code",
        "outputId": "4668ed35-040e-40a9-c218-bdc72472bd44",
        "colab": {
          "base_uri": "https://localhost:8080/",
          "height": 34
        }
      },
      "source": [
        "len(train_loader.dataset)"
      ],
      "execution_count": 0,
      "outputs": [
        {
          "output_type": "execute_result",
          "data": {
            "text/plain": [
              "1464"
            ]
          },
          "metadata": {
            "tags": []
          },
          "execution_count": 237
        }
      ]
    },
    {
      "cell_type": "code",
      "metadata": {
        "id": "b675FeQCeL_P",
        "colab_type": "code",
        "colab": {}
      },
      "source": [
        "# params\n",
        "USECUDA = True\n",
        "max_iter = 2000\n",
        "log_every = 5\n",
        "plot_every = 100\n",
        "lr = 0.001\n",
        "num_epochs = 10\n",
        "# create net\n",
        "net = UNet()\n",
        "if USECUDA:\n",
        "    net.cuda()\n",
        "    \n",
        "# create optimizer \n",
        "optimizer = optim.Adam(net.parameters(), lr=lr)\n",
        "net"
      ],
      "execution_count": 0,
      "outputs": []
    },
    {
      "cell_type": "code",
      "metadata": {
        "id": "peAtnGHimXza",
        "colab_type": "code",
        "outputId": "9d66db77-4aec-42f7-ce51-a4672c9393fb",
        "colab": {
          "base_uri": "https://localhost:8080/",
          "height": 578
        }
      },
      "source": [
        "## Train network ##\n",
        "net.train()\n",
        "# train net\n",
        "losses_trn = []\n",
        "losses_val = []\n",
        "softmax = nn.Softmax(dim=1)\n",
        "crit = nn.CrossEntropyLoss()\n",
        "logsoftmax = nn.LogSoftmax(1)\n",
        "\n",
        "print(\"BEGIN TRAINING\")\n",
        "for epoch in range(num_epochs):\n",
        "  print('Epoch {}/{}'.format(epoch, num_epochs - 1))\n",
        "  print('-' * 10)\n",
        "  \n",
        "  running_loss = 0.0\n",
        "  # Iterate over data.\n",
        "  for img, bdy in train_loader:\n",
        "\n",
        "    img = Variable(img, requires_grad = True).cuda()\n",
        "    bdy = Variable(bdy, requires_grad = True).cuda()\n",
        "    # forward, backward, update\n",
        "    optimizer.zero_grad() #TODO: Don't call zero grad on t == 0? \n",
        "    pred = net(img)           \n",
        "    bdy = bdy.squeeze(1)\n",
        "    # pred = logsoftmax(pred)\n",
        "    bdy = bdy.type(torch.cuda.LongTensor)\n",
        "    pred = pred.permute(2, 3, 1, 0).contiguous().view(512 * 512, 20)\n",
        "    bdy = bdy.permute(1, 2, 0).contiguous().view(512*512)\n",
        "    loss = crit(input=pred, target=bdy)\n",
        "    loss.backward()\n",
        "    running_loss += loss.item()\n",
        "    optimizer.step()\n",
        "  \n",
        "  print(\"Avg Loss: {}\".format(running_loss/len(train_loader.dataset)))\n",
        "\n",
        "  # log stuff\n",
        "  # if t % log_every == 0: \n",
        "  #     net.eval()\n",
        "  #     # validation info\n",
        "  #     img_val, bdy_val = sample_val()\n",
        "  #     # format\n",
        "  #     # img_val = np2var(img_val, cuda=USECUDA)\n",
        "  #     # bdy_val = np2var(bdy_val, cuda=USECUDA)\n",
        "  #     img_val = Variable(img_val, requires_grad = True).cuda()\n",
        "  #     bdy_val = Variable(bdy_val, requires_grad = True).cuda()\n",
        "\n",
        "  #     # forward\n",
        "  #     pred_val = net(img_val)           \n",
        "  #     bdy_val = bdy_val.squeeze(1)\n",
        "  #     pred_val = logsoftmax(pred_val)\n",
        "  #     bdy_val = bdy_val.type(torch.cuda.LongTensor)\n",
        "  #     pred_val = pred_val.permute(2, 3, 1, 0).contiguous().view(512 * 512, 20)\n",
        "  #     bdy_val = bdy_val.permute(1, 2, 0).contiguous().view(512*512)\n",
        "  #     loss_val = crit(input=pred_val, target=bdy_val)\n",
        "\n",
        "  #     # store\n",
        "  #     losses_trn.append(loss.item())\n",
        "  #     losses_val.append(loss_val.item())\n",
        "      # net.train()\n",
        "  # plot stuff\n",
        "  # if t % plot_every == 0:\n",
        "  #     print(\"img\", img.shape)\n",
        "  #     print(\"img_val\", img_val.shape)\n",
        "  #     # plot(t, log_every, losses_trn, losses_val, \n",
        "  #     #       var2np(img), var2np(img_val),\n",
        "  #     #       var2np(F.sigmoid(pred)), var2np(F.sigmoid(pred_val)),\n",
        "  #     #       var2np(bdy), var2np(bdy_val))\n",
        "  #     print(\"training loss: \", loss)\n",
        "  #     print(loss_val)"
      ],
      "execution_count": 0,
      "outputs": [
        {
          "output_type": "stream",
          "text": [
            "BEGIN TRAINING\n",
            "Epoch 0/9\n",
            "----------\n"
          ],
          "name": "stdout"
        },
        {
          "output_type": "stream",
          "text": [
            "/usr/local/lib/python3.6/dist-packages/torch/nn/functional.py:1351: UserWarning: nn.functional.sigmoid is deprecated. Use torch.sigmoid instead.\n",
            "  warnings.warn(\"nn.functional.sigmoid is deprecated. Use torch.sigmoid instead.\")\n"
          ],
          "name": "stderr"
        },
        {
          "output_type": "stream",
          "text": [
            "Avg Loss: 0.2547574838562334\n",
            "Epoch 1/9\n",
            "----------\n",
            "Avg Loss: 0.21521833990166178\n",
            "Epoch 2/9\n",
            "----------\n",
            "Avg Loss: 0.21478948031190803\n",
            "Epoch 3/9\n",
            "----------\n",
            "Avg Loss: 0.2147045048243809\n",
            "Epoch 4/9\n",
            "----------\n",
            "Avg Loss: 0.21429853246399694\n",
            "Epoch 5/9\n",
            "----------\n",
            "Avg Loss: 0.21435658205453245\n",
            "Epoch 6/9\n",
            "----------\n",
            "Avg Loss: 0.21446060045505239\n",
            "Epoch 7/9\n",
            "----------\n",
            "Avg Loss: 0.21408507077511948\n",
            "Epoch 8/9\n",
            "----------\n",
            "Avg Loss: 0.21409189336694004\n",
            "Epoch 9/9\n",
            "----------\n",
            "Avg Loss: 0.21450357948546933\n"
          ],
          "name": "stdout"
        }
      ]
    },
    {
      "cell_type": "code",
      "metadata": {
        "id": "LL8foyYzNBfX",
        "colab_type": "code",
        "colab": {}
      },
      "source": [
        "from PIL import Image\n",
        "import numpy as np \n",
        "import matplotlib.pyplot as plt\n",
        "def decode_segmap(image, nc=21):\n",
        "   \n",
        "  label_colors = np.array([(0, 0, 0),  # 0=background\n",
        "               # 1=aeroplane, 2=bicycle, 3=bird, 4=boat, 5=bottle\n",
        "               (128, 0, 0), (0, 128, 0), (128, 128, 0), (0, 0, 128), (128, 0, 128),\n",
        "               # 6=bus, 7=car, 8=cat, 9=chair, 10=cow\n",
        "               (0, 128, 128), (128, 128, 128), (64, 0, 0), (192, 0, 0), (64, 128, 0),\n",
        "               # 11=dining table, 12=dog, 13=horse, 14=motorbike, 15=person\n",
        "               (192, 128, 0), (64, 0, 128), (192, 0, 128), (64, 128, 128), (192, 128, 128),\n",
        "               # 16=potted plant, 17=sheep, 18=sofa, 19=train, 20=tv/monitor\n",
        "               (0, 64, 0), (128, 64, 0), (0, 192, 0), (128, 192, 0), (0, 64, 128)])\n",
        " \n",
        "  r = np.zeros_like(image).astype(np.uint8)\n",
        "  g = np.zeros_like(image).astype(np.uint8)\n",
        "  b = np.zeros_like(image).astype(np.uint8)\n",
        "   \n",
        "  for l in range(0, nc):\n",
        "    idx = image == l\n",
        "    r[idx] = label_colors[l, 0]\n",
        "    g[idx] = label_colors[l, 1]\n",
        "    b[idx] = label_colors[l, 2]\n",
        "     \n",
        "  rgb = np.stack([r, g, b], axis=2)\n",
        "  return rgb"
      ],
      "execution_count": 0,
      "outputs": []
    },
    {
      "cell_type": "code",
      "metadata": {
        "id": "oom4Q7-RNoGW",
        "colab_type": "code",
        "outputId": "6e5f3786-4cbd-4dbf-a214-fa1b7debcc8a",
        "colab": {
          "base_uri": "https://localhost:8080/",
          "height": 285
        }
      },
      "source": [
        "image = transforms.ToPILImage(mode='L')(torch.randn(1, 96, 96))\n",
        "plt.imshow(image)"
      ],
      "execution_count": 0,
      "outputs": [
        {
          "output_type": "execute_result",
          "data": {
            "text/plain": [
              "<matplotlib.image.AxesImage at 0x7f89f17a2710>"
            ]
          },
          "metadata": {
            "tags": []
          },
          "execution_count": 246
        },
        {
          "output_type": "display_data",
          "data": {
            "image/png": "[encoded data removed]",
            "text/plain": [
              "<Figure size 432x288 with 1 Axes>"
            ]
          },
          "metadata": {
            "tags": []
          }
        }
      ]
    },
    {
      "cell_type": "code",
      "metadata": {
        "id": "ukPkuiGZNPHG",
        "colab_type": "code",
        "outputId": "f9cd1336-fabe-4bdb-9261-adf04d0b836f",
        "colab": {
          "base_uri": "https://localhost:8080/",
          "height": 286
        }
      },
      "source": [
        "img, target = sample_data()\n",
        "img_2d = img.squeeze(0).squeeze(0)\n",
        "image = transforms.ToPILImage()(img_2d)\n",
        "plt.imshow(image)"
      ],
      "execution_count": 0,
      "outputs": [
        {
          "output_type": "execute_result",
          "data": {
            "text/plain": [
              "<matplotlib.image.AxesImage at 0x7f89f15f24e0>"
            ]
          },
          "metadata": {
            "tags": []
          },
          "execution_count": 247
        },
        {
          "output_type": "display_data",
          "data": {
            "image/png": "[encoded data removed]",
            "text/plain": [
              "<Figure size 432x288 with 1 Axes>"
            ]
          },
          "metadata": {
            "tags": []
          }
        }
      ]
    },
    {
      "cell_type": "code",
      "metadata": {
        "id": "lSlm4wWURzZg",
        "colab_type": "code",
        "outputId": "7cd57ab0-5b29-4ccd-f457-66cfc00ed38c",
        "colab": {
          "base_uri": "https://localhost:8080/",
          "height": 388
        }
      },
      "source": [
        "img = Variable(img, requires_grad = True).cuda()\n",
        "pred = net(img) # 1 x 20 x H x W\n",
        "pred = pred.squeeze(0)\n",
        "print(torch.sum(pred))\n",
        "pred = softmax(pred)\n",
        "print(torch.sum(pred))\n",
        "# print(torch.sum(logsoftmax(pred)))\n",
        "pred = pred.argmax(dim=0)\n",
        "pred = pred.detach().cpu().numpy()\n",
        "print(np.sum(pred))\n",
        "# rgb = decode_segmap(pred)\n",
        "# plt.imshow(rgb); plt.show()\n",
        "# print(type(pred))\n",
        "pred_img = transforms.ToPILImage()(np.float32(pred))\n",
        "print(pred.shape)\n",
        "print(type(pred))\n",
        "plt.imshow(pred_img)\n",
        "plt.show()"
      ],
      "execution_count": 0,
      "outputs": [
        {
          "output_type": "stream",
          "text": [
            "tensor(-61002704., device='cuda:0', grad_fn=<SumBackward0>)\n",
            "tensor(10239.9961, device='cuda:0', grad_fn=<SumBackward0>)\n",
            "271880\n",
            "(512, 512)\n",
            "<class 'numpy.ndarray'>\n"
          ],
          "name": "stdout"
        },
        {
          "output_type": "stream",
          "text": [
            "/usr/local/lib/python3.6/dist-packages/torch/nn/functional.py:1351: UserWarning: nn.functional.sigmoid is deprecated. Use torch.sigmoid instead.\n",
            "  warnings.warn(\"nn.functional.sigmoid is deprecated. Use torch.sigmoid instead.\")\n"
          ],
          "name": "stderr"
        },
        {
          "output_type": "display_data",
          "data": {
            "image/png": "[encoded data removed]",
            "text/plain": [
              "<Figure size 432x288 with 1 Axes>"
            ]
          },
          "metadata": {
            "tags": []
          }
        }
      ]
    },
    {
      "cell_type": "markdown",
      "metadata": {
        "id": "P1PiLET4mXzh",
        "colab_type": "text"
      },
      "source": [
        "## Make Segmentations ##"
      ]
    },
    {
      "cell_type": "code",
      "metadata": {
        "id": "vHHSFTTdmXzi",
        "colab_type": "code",
        "outputId": "437fa5cb-dd17-4c99-8e39-413031e32bca",
        "colab": {
          "base_uri": "https://localhost:8080/",
          "height": 232
        }
      },
      "source": [
        "# inspect outputs\n",
        "def plot_boundaries(im1, im2, im3):\n",
        "    plt.figure(figsize=(15,5))\n",
        "    plt.subplot(131)\n",
        "    plt.imshow(im1, cmap='gray')\n",
        "    plt.subplot(132)\n",
        "    plt.imshow(im2, cmap='gray')\n",
        "    plt.subplot(133)\n",
        "    plt.imshow(im3, cmap='gray')\n",
        "    plt.show()\n",
        "    \n",
        "\n",
        "# training set \n",
        "img = imgs_trn[5]\n",
        "true = bdys_trn[5]\n",
        "pred = var2np(F.sigmoid(net(np2var(img, cuda=USECUDA))))\n",
        "plot_boundaries(img, true, pred)\n",
        "\n",
        "# validation set\n",
        "img = imgs_val[5]\n",
        "true = bdys_val[5]\n",
        "pred = var2np(F.sigmoid(net(np2var(img, cuda=USECUDA))))\n",
        "plot_boundaries(img, true, pred)"
      ],
      "execution_count": 0,
      "outputs": [
        {
          "output_type": "error",
          "ename": "NameError",
          "evalue": "ignored",
          "traceback": [
            "\u001b[0;31m---------------------------------------------------------------------------\u001b[0m",
            "\u001b[0;31mNameError\u001b[0m                                 Traceback (most recent call last)",
            "\u001b[0;32m<ipython-input-148-42833dc94db3>\u001b[0m in \u001b[0;36m<module>\u001b[0;34m()\u001b[0m\n\u001b[1;32m     11\u001b[0m \u001b[0;34m\u001b[0m\u001b[0m\n\u001b[1;32m     12\u001b[0m \u001b[0;31m# training set\u001b[0m\u001b[0;34m\u001b[0m\u001b[0;34m\u001b[0m\u001b[0;34m\u001b[0m\u001b[0m\n\u001b[0;32m---> 13\u001b[0;31m \u001b[0mimg\u001b[0m \u001b[0;34m=\u001b[0m \u001b[0mimgs_trn\u001b[0m\u001b[0;34m[\u001b[0m\u001b[0;36m5\u001b[0m\u001b[0;34m]\u001b[0m\u001b[0;34m\u001b[0m\u001b[0;34m\u001b[0m\u001b[0m\n\u001b[0m\u001b[1;32m     14\u001b[0m \u001b[0mtrue\u001b[0m \u001b[0;34m=\u001b[0m \u001b[0mbdys_trn\u001b[0m\u001b[0;34m[\u001b[0m\u001b[0;36m5\u001b[0m\u001b[0;34m]\u001b[0m\u001b[0;34m\u001b[0m\u001b[0;34m\u001b[0m\u001b[0m\n\u001b[1;32m     15\u001b[0m \u001b[0mpred\u001b[0m \u001b[0;34m=\u001b[0m \u001b[0mvar2np\u001b[0m\u001b[0;34m(\u001b[0m\u001b[0mF\u001b[0m\u001b[0;34m.\u001b[0m\u001b[0msigmoid\u001b[0m\u001b[0;34m(\u001b[0m\u001b[0mnet\u001b[0m\u001b[0;34m(\u001b[0m\u001b[0mnp2var\u001b[0m\u001b[0;34m(\u001b[0m\u001b[0mimg\u001b[0m\u001b[0;34m,\u001b[0m \u001b[0mcuda\u001b[0m\u001b[0;34m=\u001b[0m\u001b[0mUSECUDA\u001b[0m\u001b[0;34m)\u001b[0m\u001b[0;34m)\u001b[0m\u001b[0;34m)\u001b[0m\u001b[0;34m)\u001b[0m\u001b[0;34m\u001b[0m\u001b[0;34m\u001b[0m\u001b[0m\n",
            "\u001b[0;31mNameError\u001b[0m: name 'imgs_trn' is not defined"
          ]
        }
      ]
    },
    {
      "cell_type": "code",
      "metadata": {
        "id": "T8x6wxTtmXzl",
        "colab_type": "code",
        "colab": {}
      },
      "source": [
        "# analyze results\n",
        "def plot_segmentations(im1, im2, im3):\n",
        "    plt.figure(figsize=(15,5))\n",
        "    plt.subplot(131)\n",
        "    plt.imshow(im1, cmap='gray')\n",
        "    plt.subplot(132)\n",
        "    plt.imshow(im2, cmap='nipy_spectral')\n",
        "    plt.subplot(133)\n",
        "    plt.imshow(im3, cmap='nipy_spectral')\n",
        "    plt.show()\n",
        "    \n",
        "# training \n",
        "z = 5\n",
        "img = imgs_trn[z]\n",
        "bdy_true = bdys_trn[z]\n",
        "bdy_pred = var2np(F.sigmoid(net(np2var(img, cuda=USECUDA)))) > 0.5\n",
        "seg_true = randomize_ids(segs_trn[z])\n",
        "seg_pred = randomize_ids(connected_components(np.expand_dims(bdy_pred, 0))[0])\n",
        "plot_segmentations(img, seg_true, seg_pred)\n",
        "\n",
        "# validation \n",
        "z = 5\n",
        "img = imgs_val[z]\n",
        "bdy_true = bdys_val[z]\n",
        "bdy_pred = var2np(F.sigmoid(net(np2var(img, cuda=USECUDA)))) > 0.5\n",
        "seg_true = randomize_ids(segs_val[z])\n",
        "seg_pred = randomize_ids(connected_components(np.expand_dims(bdy_pred, 0))[0])\n",
        "plot_segmentations(img, seg_true, seg_pred)"
      ],
      "execution_count": 0,
      "outputs": []
    },
    {
      "cell_type": "markdown",
      "metadata": {
        "id": "w7DQIJSLmXzp",
        "colab_type": "text"
      },
      "source": [
        "## Receptive Field ##"
      ]
    },
    {
      "cell_type": "code",
      "metadata": {
        "id": "ZdTQpIz3mXzr",
        "colab_type": "code",
        "colab": {}
      },
      "source": [
        "def input_gradient(img, net, y, x):\n",
        "    \"\"\"Compute the gradient of the output pixel (y,x) with respect to the input image\n",
        "    Args:\n",
        "        img: torch Variable, input image\n",
        "        net: torch network, randomly initialized weights\n",
        "        y, x: ints, location of pixel for which to compute gradient\n",
        "        \n",
        "    Output:\n",
        "        grad: float 32 numpy array, gradient of pixel with respect to input image \n",
        "                grad.shape = (img.shape[2], img.shape[3])\n",
        "    \"\"\"\n",
        "    ## Your code here ##\n",
        "    pred = net.forward(img)\n",
        "    pred.retain_grad()\n",
        "    pixel = pred[0,0,x,y]\n",
        "    pixel.backward()\n",
        "    return img.grad.data[0,0,:,:].numpy()\n",
        "  \n",
        "  \n",
        "  \n",
        "random_net = UNet()\n",
        "img = Variable(torch.from_numpy(np.expand_dims(np.expand_dims(imgs_trn[0], 0), 0)), requires_grad=True)\n",
        "grad = input_gradient(img, random_net, 256, 256)\n",
        "nonzero = (grad != 0.0)\n",
        "\n",
        "\n",
        "plt.figure(figsize=(10,5))\n",
        "plt.subplot(121)\n",
        "plt.imshow(nonzero, cmap='gray')\n",
        "\n",
        "im = np.copy(imgs_trn[0])\n",
        "im[~nonzero] = 0.0\n",
        "plt.subplot(122)\n",
        "plt.imshow(im, cmap='gray')\n",
        "plt.show()\n",
        "\n",
        "print(np.sqrt(np.count_nonzero(nonzero == 1)))"
      ],
      "execution_count": 0,
      "outputs": []
    },
    {
      "cell_type": "markdown",
      "metadata": {
        "id": "D4_UEEbVzG_x",
        "colab_type": "text"
      },
      "source": [
        "Generally the analytic calculation which comes out to roughly 185 acts like a lower bound on the receptive field size. Intuitively, The positive gradient values approximate the receptive field size as the portions of the image that the feature is \"searching\" for will have greater values. "
      ]
    },
    {
      "cell_type": "markdown",
      "metadata": {
        "id": "P6vhCfbuvh9L",
        "colab_type": "text"
      },
      "source": [
        ""
      ]
    }
  ]
}